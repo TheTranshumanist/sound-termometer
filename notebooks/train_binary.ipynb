{
 "cells": [
  {
   "cell_type": "markdown",
   "source": [
    "# Sound thermometer - binary classification (hot/cold)\n",
    "\n",
    "Classifying fluid's temperature using sound. "
   ],
   "metadata": {
    "collapsed": false
   }
  },
  {
   "cell_type": "code",
   "execution_count": 1,
   "outputs": [],
   "source": [
    "%load_ext autoreload\n",
    "%autoreload 2"
   ],
   "metadata": {
    "collapsed": false
   }
  },
  {
   "cell_type": "code",
   "execution_count": 2,
   "metadata": {},
   "outputs": [],
   "source": [
    "# Basic imports\n",
    "import src\n",
    "import numpy as np\n",
    "import matplotlib.pyplot as plt\n",
    "import  seaborn as sns\n",
    "import tensorflow as tf\n",
    "\n",
    "# File-loading imports\n",
    "import os\n",
    "import glob\n",
    "\n",
    "# Keras imports\n",
    "from keras.layers import Input, Resizing, Conv2D, MaxPooling2D, Dropout, Flatten, Dense\n",
    "\n",
    "# Metric imports\n",
    "from sklearn.metrics import accuracy_score, ConfusionMatrixDisplay"
   ]
  },
  {
   "cell_type": "markdown",
   "source": [
    "### Setup\n",
    "\n",
    "Dataset consists of number of .wav files sorted into two categories: HOT and COLD. Dataset will be divided into three: training, validation and test in a ratio of 8:1:1"
   ],
   "metadata": {
    "collapsed": false
   }
  },
  {
   "cell_type": "code",
   "execution_count": 3,
   "outputs": [],
   "source": [
    "DATASET = '../data/binary'"
   ],
   "metadata": {
    "collapsed": false
   }
  },
  {
   "cell_type": "code",
   "execution_count": 4,
   "outputs": [
    {
     "data": {
      "text/plain": "array(['hot', 'cool'], dtype='<U4')"
     },
     "execution_count": 4,
     "metadata": {},
     "output_type": "execute_result"
    }
   ],
   "source": [
    "labels = np.array(os.listdir(DATASET))\n",
    "labels"
   ],
   "metadata": {
    "collapsed": false
   }
  },
  {
   "cell_type": "code",
   "execution_count": 5,
   "outputs": [
    {
     "name": "stdout",
     "output_type": "stream",
     "text": [
      "Number in hot: 231\n",
      "Number in cool: 183\n"
     ]
    }
   ],
   "source": [
    "for label in labels:\n",
    "    print(f\"Number in {label}: {len(os.listdir(f'{DATASET}/{label}'))}\")"
   ],
   "metadata": {
    "collapsed": false
   }
  },
  {
   "cell_type": "code",
   "execution_count": 7,
   "outputs": [
    {
     "data": {
      "text/plain": "414"
     },
     "execution_count": 7,
     "metadata": {},
     "output_type": "execute_result"
    }
   ],
   "source": [
    "file_paths = np.array(glob.glob(f'{DATASET}/*/*'))\n",
    "np.random.shuffle(file_paths)\n",
    "\n",
    "len(file_paths)"
   ],
   "metadata": {
    "collapsed": false
   }
  },
  {
   "cell_type": "code",
   "execution_count": 8,
   "outputs": [
    {
     "name": "stdout",
     "output_type": "stream",
     "text": [
      "Training set size 331\n",
      "Validation set size 42\n",
      "Test set size 41\n"
     ]
    }
   ],
   "source": [
    "num_files = len(file_paths)\n",
    "\n",
    "border_1 = int(num_files * 0.8)\n",
    "border_2 = (num_files - border_1) // 2\n",
    "\n",
    "train_files = file_paths[:border_1]\n",
    "val_files = file_paths[border_1:-border_2]\n",
    "test_files = file_paths[-border_2:]\n",
    "\n",
    "print('Training set size', len(train_files))\n",
    "print('Validation set size', len(val_files))\n",
    "print('Test set size', len(test_files))"
   ],
   "metadata": {
    "collapsed": false
   }
  },
  {
   "cell_type": "markdown",
   "source": [
    "### Preprocessing\n",
    "\n",
    "During preprocessing phase waveform data is transformed into spectrogram using Short Time Fourier's Transform. Data can also be augmented by adding white noise, shifting or stretching sound. Output of the generate_dataset method is tf.data.Dataset object."
   ],
   "metadata": {
    "collapsed": false
   }
  },
  {
   "cell_type": "code",
   "execution_count": 12,
   "outputs": [],
   "source": [
    "train_generator = src.DataGenerator(train_files, labels, {src.add_white_noise: 0.005, src.shift_sound: 1600.0, src.stretch_sound: 1.0})\n",
    "val_generator = src.DataGenerator(train_files, labels, {})\n",
    "test_generator = src.DataGenerator(train_files, labels, {})"
   ],
   "metadata": {
    "collapsed": false
   }
  },
  {
   "cell_type": "code",
   "execution_count": 14,
   "outputs": [],
   "source": [
    "train_ds = train_generator.generate_dataset()\n",
    "val_ds = val_generator.generate_dataset()\n",
    "test_ds = test_generator.generate_dataset()"
   ],
   "metadata": {
    "collapsed": false
   }
  },
  {
   "cell_type": "code",
   "execution_count": 15,
   "outputs": [
    {
     "name": "stdout",
     "output_type": "stream",
     "text": [
      "Model: \"sequential\"\n",
      "_________________________________________________________________\n",
      " Layer (type)                Output Shape              Param #   \n",
      "=================================================================\n",
      " resizing (Resizing)         (None, 32, 32, 1)         0         \n",
      "                                                                 \n",
      " conv2d (Conv2D)             (None, 32, 32, 16)        80        \n",
      "                                                                 \n",
      " max_pooling2d (MaxPooling2D  (None, 16, 16, 16)       0         \n",
      " )                                                               \n",
      "                                                                 \n",
      " conv2d_1 (Conv2D)           (None, 16, 16, 32)        2080      \n",
      "                                                                 \n",
      " max_pooling2d_1 (MaxPooling  (None, 8, 8, 32)         0         \n",
      " 2D)                                                             \n",
      "                                                                 \n",
      " conv2d_2 (Conv2D)           (None, 8, 8, 64)          8256      \n",
      "                                                                 \n",
      " max_pooling2d_2 (MaxPooling  (None, 4, 4, 64)         0         \n",
      " 2D)                                                             \n",
      "                                                                 \n",
      " dropout (Dropout)           (None, 4, 4, 64)          0         \n",
      "                                                                 \n",
      " flatten (Flatten)           (None, 1024)              0         \n",
      "                                                                 \n",
      " dense (Dense)               (None, 128)               131200    \n",
      "                                                                 \n",
      " dense_1 (Dense)             (None, 2)                 258       \n",
      "                                                                 \n",
      "=================================================================\n",
      "Total params: 141,874\n",
      "Trainable params: 141,874\n",
      "Non-trainable params: 0\n",
      "_________________________________________________________________\n"
     ]
    }
   ],
   "source": [
    "model = tf.keras.Sequential([\n",
    "    Input(shape=(124, 129, 1)),\n",
    "    # Down sample the input.\n",
    "    Resizing(32, 32),\n",
    "\n",
    "    Conv2D(16, kernel_size=(2, 2), padding='same',activation='relu'),\n",
    "    MaxPooling2D(),\n",
    "\n",
    "    Conv2D(32, kernel_size=(2, 2), padding='same', activation='relu'),\n",
    "    MaxPooling2D(),\n",
    "\n",
    "    Conv2D(64, kernel_size=(2, 2), padding='same', activation='relu'),\n",
    "    MaxPooling2D(),\n",
    "\n",
    "    Dropout(0.2),\n",
    "    Flatten(),\n",
    "\n",
    "    Dense(128),\n",
    "    Dense(2, activation='softmax')\n",
    "])\n",
    "\n",
    "model.summary()"
   ],
   "metadata": {
    "collapsed": false
   }
  }
 ],
 "metadata": {
  "interpreter": {
   "hash": "9565e487b6cea89ca93cdac4f4823496ef94d0b2737b45c0658029b374ea2f72"
  },
  "kernelspec": {
   "display_name": "Python 3.9.7 ('sound-termometer-2tvxJizM-py3.9')",
   "language": "python",
   "name": "python3"
  },
  "language_info": {
   "name": "python",
   "version": "3.9.7"
  },
  "orig_nbformat": 4
 },
 "nbformat": 4,
 "nbformat_minor": 2
}
