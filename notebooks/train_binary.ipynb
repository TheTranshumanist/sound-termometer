{
 "cells": [
  {
   "cell_type": "code",
   "execution_count": null,
   "metadata": {},
   "outputs": [],
   "source": []
  }
 ],
 "metadata": {
  "interpreter": {
   "hash": "9565e487b6cea89ca93cdac4f4823496ef94d0b2737b45c0658029b374ea2f72"
  },
  "kernelspec": {
   "display_name": "Python 3.9.7 ('sound-termometer-2tvxJizM-py3.9')",
   "language": "python",
   "name": "python3"
  },
  "language_info": {
   "name": "python",
   "version": "3.9.7"
  },
  "orig_nbformat": 4
 },
 "nbformat": 4,
 "nbformat_minor": 2
}
