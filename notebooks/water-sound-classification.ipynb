{
 "cells": [
  {
   "cell_type": "code",
   "execution_count": 2,
   "metadata": {
    "pycharm": {
     "name": "#%%\n"
    }
   },
   "outputs": [
    {
     "name": "stderr",
     "output_type": "stream",
     "text": [
      "2022-06-09 21:04:14.004252: W tensorflow/stream_executor/platform/default/dso_loader.cc:64] Could not load dynamic library 'libcudart.so.11.0'; dlerror: libcudart.so.11.0: cannot open shared object file: No such file or directory\n",
      "2022-06-09 21:04:14.004303: I tensorflow/stream_executor/cuda/cudart_stub.cc:29] Ignore above cudart dlerror if you do not have a GPU set up on your machine.\n"
     ]
    }
   ],
   "source": [
    "import numpy as np\n",
    "import tensorflow as tf\n",
    "import os\n",
    "import matplotlib.pyplot as plt"
   ]
  },
  {
   "cell_type": "code",
   "execution_count": 124,
   "metadata": {
    "pycharm": {
     "name": "#%%\n"
    }
   },
   "outputs": [],
   "source": [
    "DATASET_PATH = f\"{os.getcwd()}/dataset\""
   ]
  },
  {
   "cell_type": "code",
   "execution_count": 125,
   "metadata": {
    "pycharm": {
     "name": "#%%\n"
    }
   },
   "outputs": [],
   "source": [
    "import librosa"
   ]
  },
  {
   "cell_type": "code",
   "execution_count": 126,
   "metadata": {
    "pycharm": {
     "name": "#%%\n"
    }
   },
   "outputs": [
    {
     "name": "stdout",
     "output_type": "stream",
     "text": [
      "Labels: ['hot' 'cool']\n"
     ]
    }
   ],
   "source": [
    "labels = np.array(os.listdir(DATASET_PATH))\n",
    "print('Labels:', labels)"
   ]
  },
  {
   "cell_type": "code",
   "execution_count": 127,
   "metadata": {
    "pycharm": {
     "name": "#%%\n"
    }
   },
   "outputs": [
    {
     "name": "stdout",
     "output_type": "stream",
     "text": [
      "Number of total examples: 414\n",
      "Number of examples in hot: 231\n",
      "Number of examples in cool: 183\n",
      "Example file path: /home/i_am_v/tinyml/sound-termometer/sound_termometer/dataset/hot/hot-46.wav\n"
     ]
    }
   ],
   "source": [
    "import glob\n",
    "\n",
    "filenames = np.array(glob.glob(f\"{DATASET_PATH}/*/*\"))\n",
    "np.random.shuffle(filenames)\n",
    "num_samples = len(filenames)\n",
    "\n",
    "print(\"Number of total examples:\", num_samples)\n",
    "\n",
    "for label in labels:\n",
    "    print(f\"Number of examples in {label}:\", len(os.listdir(f\"{DATASET_PATH}/{label}\")))\n",
    "\n",
    "print(\"Example file path:\", filenames[0])"
   ]
  },
  {
   "cell_type": "code",
   "execution_count": 128,
   "metadata": {
    "pycharm": {
     "name": "#%%\n"
    }
   },
   "outputs": [
    {
     "name": "stdout",
     "output_type": "stream",
     "text": [
      "Training set size 331\n",
      "Validation set size 42\n",
      "Test set size 41\n"
     ]
    }
   ],
   "source": [
    "border_1 = int(num_samples * 0.8)\n",
    "border_2 = (num_samples - border_1) // 2\n",
    "train_files = filenames[:border_1]\n",
    "val_files = filenames[border_1:-border_2]\n",
    "test_files = filenames[-border_2:]\n",
    "\n",
    "print('Training set size', len(train_files))\n",
    "print('Validation set size', len(val_files))\n",
    "print('Test set size', len(test_files))"
   ]
  },
  {
   "cell_type": "code",
   "execution_count": 129,
   "metadata": {
    "pycharm": {
     "name": "#%%\n"
    }
   },
   "outputs": [],
   "source": [
    "def get_label(file_path):\n",
    "    file_path = file_path.decode()\n",
    "    tmp = file_path.split(f'{DATASET_PATH}')[1]\n",
    "    return tmp.split('/')[1]\n",
    "    \n",
    "def decode_audio(file_path):\n",
    "    wav_audio, wav_sample_rate = librosa.load(file_path)\n",
    "    return wav_audio\n",
    "    \n",
    "def get_waveform_and_label(file_paths):\n",
    "    for file_path in file_paths:\n",
    "        wav_label = get_label(file_path)\n",
    "        waveform = decode_audio(file_path)\n",
    "        yield waveform, wav_label"
   ]
  },
  {
   "cell_type": "code",
   "execution_count": 130,
   "metadata": {
    "pycharm": {
     "name": "#%%\n"
    }
   },
   "outputs": [],
   "source": [
    "def get_spectrogram(waveform):\n",
    "    # Zero-padding for an audio waveform with less than 16,000 samples.\n",
    "    input_len = 16000\n",
    "    waveform = waveform[:input_len]\n",
    "    zero_padding = tf.zeros(\n",
    "        np.array([16000]) - tf.shape(waveform),\n",
    "        dtype=tf.float32)\n",
    "    # Cast the waveform tensors' data type to float32.\n",
    "    waveform = tf.cast(waveform, dtype=tf.float32)\n",
    "    # Concatenate the waveform with `zero_padding`, which ensures all audio\n",
    "    # clips are of the same length.\n",
    "    equal_length = tf.concat([waveform, zero_padding], 0)\n",
    "    # Convert the waveform to a spectrogram via a STFT.\n",
    "    spec = tf.signal.stft(\n",
    "        equal_length, frame_length=255, frame_step=128)\n",
    "    # Obtain the magnitude of the STFT.\n",
    "    spec = tf.abs(spec)\n",
    "    # Add a `channels` dimension, so that the spectrogram can be used\n",
    "    # as image-like input data with convolution layers (which expect\n",
    "    # shape (`batch_size`, `height`, `width`, `channels`)).\n",
    "    spec = spec[..., tf.newaxis]\n",
    "    return spec\n",
    "\n",
    "def get_spectrogram_and_label_id(wav, wav_label):\n",
    "    spec= get_spectrogram(wav)\n",
    "    label_id = tf.argmax(wav_label == labels)\n",
    "    return spec, label_id"
   ]
  },
  {
   "cell_type": "code",
   "execution_count": 131,
   "metadata": {
    "pycharm": {
     "name": "#%%\n"
    }
   },
   "outputs": [],
   "source": [
    "AUTOTUNE = tf.data.AUTOTUNE\n",
    "\n",
    "def preprocess_dataset(files):\n",
    "    output_ds = tf.data.Dataset.from_generator(get_waveform_and_label,\n",
    "                                          args=[files],\n",
    "                                          output_shapes=((None,), ()),\n",
    "                                          output_types=(np.float32, np.str_))\n",
    "    output_ds = output_ds.map(\n",
    "        map_func=get_spectrogram_and_label_id,\n",
    "        num_parallel_calls=AUTOTUNE)\n",
    "    return output_ds"
   ]
  },
  {
   "cell_type": "code",
   "execution_count": 132,
   "metadata": {
    "pycharm": {
     "name": "#%%\n"
    }
   },
   "outputs": [],
   "source": [
    "train_ds = preprocess_dataset(train_files)\n",
    "val_ds = preprocess_dataset(val_files)\n",
    "test_ds = preprocess_dataset(test_files)"
   ]
  },
  {
   "cell_type": "code",
   "execution_count": 133,
   "metadata": {
    "pycharm": {
     "name": "#%%\n"
    }
   },
   "outputs": [],
   "source": [
    "spectrogram, label_index = None, None\n",
    "\n",
    "for train_spec, label in train_ds.take(1):\n",
    "    label_index = np.array(label)\n",
    "    spectrogram = np.array(train_spec)\n",
    "\n",
    "if spectrogram.any() and label_index.any():\n",
    "    print('Label:', labels[label_index])\n",
    "    print('Spectrogram shape:', spectrogram.shape)"
   ]
  },
  {
   "cell_type": "code",
   "execution_count": 134,
   "metadata": {
    "pycharm": {
     "name": "#%%\n"
    }
   },
   "outputs": [],
   "source": [
    "def plot_spectrogram(spec, ax):\n",
    "    if len(spec.shape) > 2:\n",
    "        assert len(spec.shape) == 3\n",
    "        spec = np.squeeze(spec, axis=-1)\n",
    "    # Convert the frequencies to log scale and transpose, so that the time is\n",
    "    # represented on the x-axis (columns).\n",
    "    # Add an epsilon to avoid taking a log of zero.\n",
    "    log_spec = np.log(spec.T + np.finfo(float).eps)\n",
    "    height = log_spec.shape[0]\n",
    "    width = log_spec.shape[1]\n",
    "    x = np.linspace(0, np.size(spec), num=width, dtype=int)\n",
    "    y = range(height)\n",
    "    ax.pcolormesh(x, y, log_spec)"
   ]
  },
  {
   "cell_type": "code",
   "execution_count": 135,
   "metadata": {
    "pycharm": {
     "name": "#%%\n"
    }
   },
   "outputs": [
    {
     "name": "stdout",
     "output_type": "stream",
     "text": [
      "Model: \"sequential_6\"\n",
      "_________________________________________________________________\n",
      " Layer (type)                Output Shape              Param #   \n",
      "=================================================================\n",
      " resizing_6 (Resizing)       (None, 32, 32, 1)         0         \n",
      "                                                                 \n",
      " conv2d_18 (Conv2D)          (None, 32, 32, 16)        80        \n",
      "                                                                 \n",
      " max_pooling2d_18 (MaxPoolin  (None, 16, 16, 16)       0         \n",
      " g2D)                                                            \n",
      "                                                                 \n",
      " conv2d_19 (Conv2D)          (None, 16, 16, 32)        2080      \n",
      "                                                                 \n",
      " max_pooling2d_19 (MaxPoolin  (None, 8, 8, 32)         0         \n",
      " g2D)                                                            \n",
      "                                                                 \n",
      " conv2d_20 (Conv2D)          (None, 8, 8, 64)          8256      \n",
      "                                                                 \n",
      " max_pooling2d_20 (MaxPoolin  (None, 4, 4, 64)         0         \n",
      " g2D)                                                            \n",
      "                                                                 \n",
      " dropout_6 (Dropout)         (None, 4, 4, 64)          0         \n",
      "                                                                 \n",
      " flatten_6 (Flatten)         (None, 1024)              0         \n",
      "                                                                 \n",
      " dense_12 (Dense)            (None, 128)               131200    \n",
      "                                                                 \n",
      " dense_13 (Dense)            (None, 2)                 258       \n",
      "                                                                 \n",
      "=================================================================\n",
      "Total params: 141,874\n",
      "Trainable params: 141,874\n",
      "Non-trainable params: 0\n",
      "_________________________________________________________________\n"
     ]
    }
   ],
   "source": [
    "from keras.layers import Conv2D\n",
    "from keras.layers import Flatten\n",
    "from keras.layers import Dense\n",
    "from keras.layers import Dropout\n",
    "from keras.layers import MaxPooling2D\n",
    "from keras.layers import Input\n",
    "from keras.layers import Resizing\n",
    "\n",
    "\n",
    "model = tf.keras.Sequential([\n",
    "    Input(shape=(124, 129, 1)),\n",
    "    # Down sample the input.\n",
    "    Resizing(32, 32),\n",
    "    \n",
    "    Conv2D(16, kernel_size=(2, 2), padding='same',activation='relu'),\n",
    "    MaxPooling2D(),\n",
    "    \n",
    "    Conv2D(32, kernel_size=(2, 2), padding='same', activation='relu'),\n",
    "    MaxPooling2D(),\n",
    "    \n",
    "    Conv2D(64, kernel_size=(2, 2), padding='same', activation='relu'),\n",
    "    MaxPooling2D(),\n",
    "    \n",
    "    Dropout(0.2),\n",
    "    Flatten(),\n",
    "    \n",
    "    Dense(128),\n",
    "    Dense(2, activation='softmax')\n",
    "])\n",
    "\n",
    "model.summary()"
   ]
  },
  {
   "cell_type": "code",
   "execution_count": 136,
   "metadata": {
    "pycharm": {
     "name": "#%%\n"
    }
   },
   "outputs": [],
   "source": [
    "model.compile(\n",
    "    optimizer='adam',\n",
    "    loss=tf.keras.losses.SparseCategoricalCrossentropy(from_logits=True),\n",
    "    metrics=['accuracy']\n",
    ")"
   ]
  },
  {
   "cell_type": "code",
   "execution_count": 137,
   "metadata": {
    "pycharm": {
     "name": "#%%\n"
    }
   },
   "outputs": [],
   "source": [
    "train_ds = train_ds.batch(16)\n",
    "val_ds = val_ds.batch(16)"
   ]
  },
  {
   "cell_type": "code",
   "execution_count": 138,
   "metadata": {
    "pycharm": {
     "name": "#%%\n"
    },
    "scrolled": false
   },
   "outputs": [
    {
     "name": "stdout",
     "output_type": "stream",
     "text": [
      "(16, 124, 129, 1)\n",
      "(16,)\n"
     ]
    }
   ],
   "source": [
    "for image_batch, label_batch in train_ds.take(1).as_numpy_iterator():\n",
    "    print(image_batch.shape)\n",
    "    print(label_batch.shape)\n",
    "    break"
   ]
  },
  {
   "cell_type": "code",
   "execution_count": 139,
   "metadata": {
    "pycharm": {
     "name": "#%%\n"
    }
   },
   "outputs": [
    {
     "data": {
      "text/plain": [
       "<BatchDataset element_spec=(TensorSpec(shape=(None, None, 129, 1), dtype=tf.float32, name=None), TensorSpec(shape=(None,), dtype=tf.int64, name=None))>"
      ]
     },
     "execution_count": 139,
     "metadata": {},
     "output_type": "execute_result"
    }
   ],
   "source": [
    "train_ds"
   ]
  },
  {
   "cell_type": "code",
   "execution_count": 140,
   "metadata": {
    "collapsed": false,
    "pycharm": {
     "name": "#%%\n"
    }
   },
   "outputs": [
    {
     "data": {
      "text/plain": [
       "<BatchDataset element_spec=(TensorSpec(shape=(None, None, 129, 1), dtype=tf.float32, name=None), TensorSpec(shape=(None,), dtype=tf.int64, name=None))>"
      ]
     },
     "execution_count": 140,
     "metadata": {},
     "output_type": "execute_result"
    }
   ],
   "source": [
    "val_ds"
   ]
  },
  {
   "cell_type": "code",
   "execution_count": 147,
   "metadata": {
    "pycharm": {
     "name": "#%%\n"
    }
   },
   "outputs": [
    {
     "name": "stdout",
     "output_type": "stream",
     "text": [
      "Epoch 1/15\n",
      "21/21 [==============================] - 6s 303ms/step - loss: 0.6112 - accuracy: 0.6405 - val_loss: 0.7717 - val_accuracy: 0.5714\n",
      "Epoch 2/15\n",
      "21/21 [==============================] - 6s 290ms/step - loss: 0.5879 - accuracy: 0.6526 - val_loss: 0.7472 - val_accuracy: 0.5714\n",
      "Epoch 3/15\n",
      "21/21 [==============================] - 6s 286ms/step - loss: 0.5571 - accuracy: 0.7130 - val_loss: 0.7398 - val_accuracy: 0.5952\n",
      "Epoch 4/15\n",
      "21/21 [==============================] - 6s 289ms/step - loss: 0.5288 - accuracy: 0.7130 - val_loss: 0.7271 - val_accuracy: 0.5714\n",
      "Epoch 5/15\n",
      "21/21 [==============================] - 6s 289ms/step - loss: 0.5105 - accuracy: 0.7341 - val_loss: 0.7178 - val_accuracy: 0.6190\n",
      "Epoch 6/15\n",
      "21/21 [==============================] - 6s 287ms/step - loss: 0.4602 - accuracy: 0.7915 - val_loss: 0.6796 - val_accuracy: 0.5714\n",
      "Epoch 7/15\n",
      "21/21 [==============================] - 6s 289ms/step - loss: 0.4125 - accuracy: 0.8097 - val_loss: 0.7573 - val_accuracy: 0.5714\n",
      "Epoch 8/15\n",
      "21/21 [==============================] - 6s 296ms/step - loss: 0.3945 - accuracy: 0.8308 - val_loss: 0.7260 - val_accuracy: 0.6190\n",
      "Epoch 8: early stopping\n"
     ]
    }
   ],
   "source": [
    "history = model.fit(\n",
    "    train_ds,\n",
    "    validation_data=val_ds,\n",
    "    epochs=15,\n",
    "    callbacks=tf.keras.callbacks.EarlyStopping(verbose=1, patience=2)\n",
    ")"
   ]
  },
  {
   "cell_type": "code",
   "execution_count": 148,
   "metadata": {
    "collapsed": false,
    "pycharm": {
     "name": "#%%\n"
    }
   },
   "outputs": [
    {
     "name": "stderr",
     "output_type": "stream",
     "text": [
      "2022-04-13 01:11:23.763362: W tensorflow/python/util/util.cc:368] Sets are not currently considered sequences, but this may change in the future, so consider avoiding using them.\n"
     ]
    },
    {
     "name": "stdout",
     "output_type": "stream",
     "text": [
      "INFO:tensorflow:Assets written to: models/water_model/assets\n"
     ]
    }
   ],
   "source": [
    "model.save(\"models/water_model\")"
   ]
  },
  {
   "cell_type": "code",
   "execution_count": 149,
   "metadata": {
    "pycharm": {
     "name": "#%%\n"
    }
   },
   "outputs": [
    {
     "data": {
      "image/png": "[encoded data removed]",
      "text/plain": [
       "<Figure size 432x288 with 1 Axes>"
      ]
     },
     "metadata": {
      "needs_background": "light"
     },
     "output_type": "display_data"
    }
   ],
   "source": [
    "metrics = history.history\n",
    "plt.plot(history.epoch, metrics['loss'], metrics['val_loss'])\n",
    "plt.legend(['loss', 'val_loss'])\n",
    "plt.show()"
   ]
  },
  {
   "cell_type": "code",
   "execution_count": 150,
   "metadata": {
    "pycharm": {
     "name": "#%%\n"
    }
   },
   "outputs": [
    {
     "data": {
      "image/png": "[encoded data removed]",
      "text/plain": [
       "<Figure size 432x288 with 1 Axes>"
      ]
     },
     "metadata": {
      "needs_background": "light"
     },
     "output_type": "display_data"
    }
   ],
   "source": [
    "plt.plot(history.epoch, metrics['accuracy'], metrics['val_accuracy'])\n",
    "plt.legend(['acc', 'val_acc'])\n",
    "plt.show()"
   ]
  },
  {
   "cell_type": "code",
   "execution_count": 151,
   "metadata": {
    "pycharm": {
     "name": "#%%\n"
    }
   },
   "outputs": [],
   "source": [
    "test_audio = []\n",
    "test_labels = []\n",
    "\n",
    "for audio, label in test_ds:\n",
    "    test_audio.append(audio.numpy())\n",
    "    test_labels.append(label.numpy())\n",
    "\n",
    "test_audio = np.array(test_audio)\n",
    "test_labels = np.array(test_labels)"
   ]
  },
  {
   "cell_type": "code",
   "execution_count": 152,
   "metadata": {
    "pycharm": {
     "name": "#%%\n"
    }
   },
   "outputs": [
    {
     "name": "stdout",
     "output_type": "stream",
     "text": [
      "Test set accuracy: 85%\n"
     ]
    }
   ],
   "source": [
    "from sklearn.metrics import accuracy_score\n",
    "\n",
    "y_predict = np.argmax(model.predict(test_audio), axis=1)\n",
    "y_true = test_labels\n",
    "test_acc = accuracy_score(y_true, y_predict)\n",
    "\n",
    "print(f'Test set accuracy: {test_acc:.0%}')"
   ]
  },
  {
   "cell_type": "code",
   "execution_count": 153,
   "metadata": {
    "collapsed": false,
    "pycharm": {
     "name": "#%%\n"
    }
   },
   "outputs": [
    {
     "data": {
      "image/png": "[encoded data removed]",
      "text/plain": [
       "<Figure size 432x288 with 2 Axes>"
      ]
     },
     "metadata": {
      "needs_background": "light"
     },
     "output_type": "display_data"
    }
   ],
   "source": [
    "from sklearn.metrics import ConfusionMatrixDisplay\n",
    "\n",
    "conf = ConfusionMatrixDisplay(\n",
    "    np.array(tf.math.confusion_matrix(y_true, y_predict, num_classes=2)),\n",
    "    display_labels=np.array(['cool', 'hot'])).plot()\n",
    "\n",
    "plt.show()"
   ]
  }
 ],
 "metadata": {
  "interpreter": {
   "hash": "9565e487b6cea89ca93cdac4f4823496ef94d0b2737b45c0658029b374ea2f72"
  },
  "kernelspec": {
   "display_name": "Python 3.9.7 ('sound-termometer-2tvxJizM-py3.9')",
   "language": "python",
   "name": "python3"
  },
  "language_info": {
   "codemirror_mode": {
    "name": "ipython",
    "version": 3
   },
   "file_extension": ".py",
   "mimetype": "text/x-python",
   "name": "python",
   "nbconvert_exporter": "python",
   "pygments_lexer": "ipython3",
   "version": "3.9.7"
  }
 },
 "nbformat": 4,
 "nbformat_minor": 5
}
